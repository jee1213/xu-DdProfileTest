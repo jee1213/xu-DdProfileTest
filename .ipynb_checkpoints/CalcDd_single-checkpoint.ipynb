{
 "cells": [
  {
   "cell_type": "code",
   "execution_count": 20,
   "metadata": {
    "collapsed": false
   },
   "outputs": [],
   "source": [
    "import numpy as np\n",
    "import matplotlib\n",
    "import matplotlib.pyplot as plt\n",
    "import math\n",
    "import os\n",
    "%matplotlib inline"
   ]
  },
  {
   "cell_type": "code",
   "execution_count": 2,
   "metadata": {
    "collapsed": true
   },
   "outputs": [],
   "source": [
    "infile = 'Galx_FID56582SID0_Proj3_QuadsTimeDelays.dat'\n",
    "# read source positions, number of images, image positions, magnification and time delays (30 diff. projections)\n",
    "paramfile = 'RayTracing_SubhaloID_III_m2l_Snap099_full.dat'\n",
    "# read halo mass, Einstein radius, vel dispersion (einstein rad / eff rad), aperture Dd, Reff, gamma"
   ]
  },
  {
   "cell_type": "code",
   "execution_count": 3,
   "metadata": {
    "collapsed": true
   },
   "outputs": [],
   "source": [
    "with open(infile,'r') as f:\n",
    "    lines = f.read().split(os.linesep)"
   ]
  },
  {
   "cell_type": "code",
   "execution_count": 4,
   "metadata": {
    "collapsed": false
   },
   "outputs": [],
   "source": [
    "data = []\n",
    "for line in lines:\n",
    "    # only when the size of the array matches the column number \n",
    "    if len(line.split())==23:\n",
    "        data.append(line.split())\n",
    "data = np.array(data).astype(float)\n",
    "src_x = data[:,0]\n",
    "src_y = data[:,1]\n",
    "img0_x = data[:,3]\n",
    "img0_y = data[:,4]\n",
    "img0_mag = data[:,5]\n",
    "img0_dt = data[:,6]\n",
    "img1_x = data[:,7]\n",
    "img1_y = data[:,8]\n",
    "img1_mag = data[:,9]\n",
    "img1_dt = data[:,10]\n",
    "img2_x = data[:,11]\n",
    "img2_y = data[:,12]\n",
    "img2_mag = data[:,13]\n",
    "img2_dt = data[:,14]\n",
    "img3_x = data[:,15]\n",
    "img3_y = data[:,16]\n",
    "img3_mag = data[:,17]\n",
    "img3_dt = data[:,18]\n",
    "img4_x = data[:,19]\n",
    "img4_y = data[:,20]\n",
    "img4_mag = data[:,21]\n",
    "img4_dt = data[:,22]"
   ]
  },
  {
   "cell_type": "code",
   "execution_count": 106,
   "metadata": {
    "collapsed": true
   },
   "outputs": [],
   "source": [
    "def size(x,y):\n",
    "    return np.sqrt(x**2.+y**2.)"
   ]
  },
  {
   "cell_type": "code",
   "execution_count": 107,
   "metadata": {
    "collapsed": false
   },
   "outputs": [],
   "source": [
    "theta0 = size(img0_x,img0_y)\n",
    "theta1 = size(img1_x,img1_y)\n",
    "theta2 = size(img2_x,img2_y)\n",
    "theta3 = size(img3_x,img3_y)\n",
    "theta4 = size(img4_x,img4_y)"
   ]
  },
  {
   "cell_type": "code",
   "execution_count": 5,
   "metadata": {
    "collapsed": false
   },
   "outputs": [
    {
     "data": {
      "text/plain": [
       "9"
      ]
     },
     "execution_count": 5,
     "metadata": {},
     "output_type": "execute_result"
    }
   ],
   "source": [
    "with open(paramfile,'r') as f:\n",
    "    lines = f.read().split(os.linesep)\n",
    "param = []\n",
    "for line in lines:\n",
    "    param.append(line.split())\n",
    "param = np.array(param)\n",
    "param[3][0]\n",
    "len(param)"
   ]
  },
  {
   "cell_type": "code",
   "execution_count": 134,
   "metadata": {
    "collapsed": false
   },
   "outputs": [],
   "source": [
    "for i in range (1, len(param)-1):\n",
    "    if int(param[i][0]) == 56582:\n",
    "        M_E = float(param[i][3])\n",
    "        R_E = float(param[i][4])\n",
    "        vdSIE = float(param[i][5])\n",
    "        vdapt = float(param[i][8])\n",
    "        Rapt = float(param[i][9])\n",
    "        vdeff = float(param[i][10])\n",
    "        Reff = float(param[i][11])\n",
    "        gam = float(param[i][12])"
   ]
  },
  {
   "cell_type": "code",
   "execution_count": 81,
   "metadata": {
    "collapsed": false
   },
   "outputs": [
    {
     "data": {
      "text/plain": [
       "977320.6977"
      ]
     },
     "execution_count": 81,
     "metadata": {},
     "output_type": "execute_result"
    }
   ],
   "source": [
    "radtosec = 206265.\n",
    "Dd = R_apt/1.5*radtosec\n",
    "# Dd in kpc\n",
    "kmtokpc = 3.24078e-17\n",
    "Dd"
   ]
  },
  {
   "cell_type": "code",
   "execution_count": 13,
   "metadata": {
    "collapsed": false
   },
   "outputs": [],
   "source": [
    "def dist(x1,y1,x2,y2):\n",
    "    return np.sqrt((x1-x2)**2.+(y1-y2)**2.)"
   ]
  },
  {
   "cell_type": "code",
   "execution_count": 110,
   "metadata": {
    "collapsed": false
   },
   "outputs": [],
   "source": [
    "def F(gam):\n",
    "    from scipy.special import gamma as g\n",
    "    return math.sqrt(math.pi*g(0.5*(gam-1))/g(0.5*gam))"
   ]
  },
  {
   "cell_type": "code",
   "execution_count": 129,
   "metadata": {
    "collapsed": false
   },
   "outputs": [],
   "source": [
    "def Dthetainv(gam,theta1,theta2,T):\n",
    "    return 2.*math.pi*(2./(-gam+3.)*(theta2*(theta2/T)**(-gam+2.)-theta1*(theta1/T)**(-gam+2.))+\\\n",
    "                       (theta1+theta2)*((theta1/T)**(-gam+2.)-(theta2/T)**(-gam+2.)))**(-1.)/(F(gam)*(gam-1.))"
   ]
  },
  {
   "cell_type": "code",
   "execution_count": 94,
   "metadata": {
    "collapsed": false
   },
   "outputs": [
    {
     "data": {
      "text/plain": [
       "[<matplotlib.lines.Line2D at 0x7fcf3bffe860>]"
      ]
     },
     "execution_count": 94,
     "metadata": {},
     "output_type": "execute_result"
    },
    {
     "data": {
      "image/png": "[encoded data removed]",
      "text/plain": [
       "<matplotlib.figure.Figure at 0x7fcf3c125cc0>"
      ]
     },
     "metadata": {},
     "output_type": "display_data"
    }
   ],
   "source": [
    "plt.plot(img1_x,img1_y,marker='.',linestyle='none',color='r')\n",
    "plt.plot(img2_x,img2_y,marker='.',linestyle='none',color='g')\n",
    "plt.plot(img3_x,img3_y,marker='.',linestyle='none',color='b')\n",
    "plt.plot(img4_x,img4_y,marker='.',linestyle='none',color='black')\n",
    "plt.plot(img0_x,img0_y,marker='.',linestyle='none',color='orange')\n",
    "# calculate Dd from each image paired with the central image!"
   ]
  },
  {
   "cell_type": "code",
   "execution_count": 135,
   "metadata": {
    "collapsed": false
   },
   "outputs": [],
   "source": [
    "c = np.float(300000.)\n",
    "# speed of light in km/s\n",
    "Ddeff1 = c**3.*np.abs(img0_dt-img1_dt)*10.**7./(4.*3.14*vdapt**2.*(1.+0.6))*kmtokpc*radtosec*Dthetainv(gam,theta0,theta1,Rapt/Dd)\n",
    "Ddeff2 = c**3.*np.abs(img0_dt-img2_dt)*10.**7./(4.*3.14*vdapt**2.*(1.+0.6))*kmtokpc*radtosec*Dthetainv(gam,theta0,theta2,Rapt/Dd)\n",
    "Ddeff3 = c**3.*np.abs(img0_dt-img3_dt)*10.**7./(4.*3.14*vdapt**2.*(1.+0.6))*kmtokpc*radtosec*Dthetainv(gam,theta0,theta3,Rapt/Dd)\n",
    "Ddeff4 = c**3.*np.abs(img0_dt-img4_dt)*10.**7./(4.*3.14*vdapt**2.*(1.+0.6))*kmtokpc*radtosec*Dthetainv(gam,theta0,theta4,Rapt/Dd)"
   ]
  },
  {
   "cell_type": "code",
   "execution_count": 138,
   "metadata": {
    "collapsed": false
   },
   "outputs": [
    {
     "name": "stdout",
     "output_type": "stream",
     "text": [
      "[ 875608.97624265  915220.76123416  889673.49713178  915623.39248339\n",
      "  899478.38577317  906343.14230578  902338.14704729  897446.23670508\n",
      "  898884.88588656  878298.19433014  896455.90939452  914060.47231746\n",
      "  882983.8201317   899076.27745094  918469.92327915  901271.65258092\n",
      "  887160.61605066  895408.28961207  908592.18403519  883515.6446536\n",
      "  902648.00252578  907363.28743768  896263.27827934  898436.7410579\n",
      "  888708.63051145  883172.42397629]\n"
     ]
    },
    {
     "data": {
      "image/png": "[encoded data removed]",
      "text/plain": [
       "<matplotlib.figure.Figure at 0x7fcf30477f60>"
      ]
     },
     "metadata": {},
     "output_type": "display_data"
    }
   ],
   "source": [
    "Ddeff1 = Ddeff1[np.where(Ddeff1<10**10)]\n",
    "Ddeff2 = Ddeff2[np.where(Ddeff2<10**10)]\n",
    "Ddeff3 = Ddeff3[np.where(Ddeff3<10**10)]\n",
    "Ddeff4 = Ddeff4[np.where(Ddeff4<10**10)]\n",
    "\n",
    "plt.hist(Ddeff1,histtype='step')\n",
    "plt.hist(Ddeff2,histtype='step')\n",
    "plt.hist(Ddeff3,histtype='step')\n",
    "plt.hist(Ddeff4,histtype='step')\n",
    "\n",
    "#plt.hist(DdSIE)\n",
    "plt.axvline(Dd,color = 'black')\n",
    "print(Ddeff1)"
   ]
  },
  {
   "cell_type": "code",
   "execution_count": null,
   "metadata": {
    "collapsed": true
   },
   "outputs": [],
   "source": []
  }
 ],
 "metadata": {
  "anaconda-cloud": {},
  "kernelspec": {
   "display_name": "Python [Root]",
   "language": "python",
   "name": "Python [Root]"
  },
  "language_info": {
   "codemirror_mode": {
    "name": "ipython",
    "version": 3
   },
   "file_extension": ".py",
   "mimetype": "text/x-python",
   "name": "python",
   "nbconvert_exporter": "python",
   "pygments_lexer": "ipython3",
   "version": "3.5.2"
  }
 },
 "nbformat": 4,
 "nbformat_minor": 2
}
