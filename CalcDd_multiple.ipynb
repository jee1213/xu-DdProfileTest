{
 "cells": [
  {
   "cell_type": "code",
   "execution_count": 1,
   "metadata": {
    "collapsed": false
   },
   "outputs": [],
   "source": [
    "import numpy as np\n",
    "import matplotlib\n",
    "import matplotlib.pyplot as plt\n",
    "import math\n",
    "import os\n",
    "%matplotlib inline"
   ]
  },
  {
   "cell_type": "code",
   "execution_count": 2,
   "metadata": {
    "collapsed": true
   },
   "outputs": [],
   "source": [
    "infilelist = 'QuadsTimeDelays.list'\n",
    "# read source positions, number of images, image positions, magnification and time delays (30 diff. projections)\n",
    "paramfilelist = 'RayTracing_SubhaloID.list'\n",
    "# read halo mass, Einstein radius, vel dispersion (einstein rad / eff rad), aperture Dd, Reff, gamma"
   ]
  },
  {
   "cell_type": "code",
   "execution_count": 3,
   "metadata": {
    "collapsed": false,
    "scrolled": true
   },
   "outputs": [
    {
     "name": "stdout",
     "output_type": "stream",
     "text": [
      "['Galx_FID100527SID0_Proj2_QuadsTimeDelays.dat', 'Galx_FID100527SID0_Proj3_QuadsTimeDelays.dat', 'Galx_FID103122SID0_Proj3_QuadsTimeDelays.dat', 'Galx_FID106840SID0_Proj1_QuadsTimeDelays.dat', 'Galx_FID106840SID0_Proj2_QuadsTimeDelays.dat', 'Galx_FID139644SID0_Proj2_QuadsTimeDelays.dat', 'Galx_FID140304SID0_Proj1_QuadsTimeDelays.dat', 'Galx_FID147093SID0_Proj1_QuadsTimeDelays.dat', 'Galx_FID160281SID0_Proj1_QuadsTimeDelays.dat', 'Galx_FID16254SID0_Proj2_QuadsTimeDelays.dat', 'Galx_FID165345SID0_Proj3_QuadsTimeDelays.dat', 'Galx_FID176276SID0_Proj3_QuadsTimeDelays.dat', 'Galx_FID217576SID0_Proj2_QuadsTimeDelays.dat', 'Galx_FID228508SID0_Proj3_QuadsTimeDelays.dat', 'Galx_FID231499SID0_Proj2_QuadsTimeDelays.dat', 'Galx_FID28221SID0_Proj1_QuadsTimeDelays.dat', 'Galx_FID31645SID0_Proj3_QuadsTimeDelays.dat', 'Galx_FID35327SID0_Proj1_QuadsTimeDelays.dat', 'Galx_FID35327SID0_Proj2_QuadsTimeDelays.dat', 'Galx_FID38307SID0_Proj1_QuadsTimeDelays.dat', 'Galx_FID38307SID0_Proj2_QuadsTimeDelays.dat', 'Galx_FID43749SID0_Proj3_QuadsTimeDelays.dat', 'Galx_FID54707SID0_Proj1_QuadsTimeDelays.dat', 'Galx_FID56582SID0_Proj1_QuadsTimeDelays.dat', 'Galx_FID56582SID0_Proj3_QuadsTimeDelays.dat', 'Galx_FID64516SID0_Proj3_QuadsTimeDelays.dat', 'Galx_FID67483SID0_Proj2_QuadsTimeDelays.dat', 'Galx_FID67483SID0_Proj3_QuadsTimeDelays.dat', 'Galx_FID76240SID0_Proj2_QuadsTimeDelays.dat', 'Galx_FID78699SID0_Proj1_QuadsTimeDelays.dat', 'Galx_FID78699SID0_Proj2_QuadsTimeDelays.dat', 'Galx_FID79894SID0_Proj2_QuadsTimeDelays.dat', 'Galx_FID82074SID0_Proj2_QuadsTimeDelays.dat', 'Galx_FID87854SID0_Proj3_QuadsTimeDelays.dat', 'Galx_FID90783SID0_Proj1_QuadsTimeDelays.dat', 'Galx_FID93295SID0_Proj1_QuadsTimeDelays.dat', 'Galx_FID93295SID0_Proj2_QuadsTimeDelays.dat']\n",
      "['RayTracing_SubhaloID_III_m2l_Snap099_full.dat', 'RayTracing_SubhaloID_II_m1l_Snap099_full.dat', 'RayTracing_SubhaloID_I_m1lo_Snap099_full.dat', 'RayTracing_SubhaloID_IV_m2lo_Snap099_full.dat', 'RayTracing_SubhaloID_rl_Snap099_full.dat']\n"
     ]
    }
   ],
   "source": [
    "with open(infilelist,'r') as f:\n",
    "    infiles = f.read().split(os.linesep)\n",
    "infiles = infiles[:-1]\n",
    "with open(paramfilelist,'r') as f:\n",
    "    paramfiles = f.read().split(os.linesep)\n",
    "paramfiles = paramfiles[:-1]\n",
    "print(infiles)\n",
    "print(paramfiles)"
   ]
  },
  {
   "cell_type": "code",
   "execution_count": 4,
   "metadata": {
    "collapsed": false
   },
   "outputs": [
    {
     "name": "stdout",
     "output_type": "stream",
     "text": [
      "['100527', '100527', '103122', '106840', '106840', '139644', '140304', '147093', '160281', '16254', '165345', '176276', '217576', '228508', '231499', '28221', '31645', '35327', '35327', '38307', '38307', '43749', '54707', '56582', '56582', '64516', '67483', '67483', '76240', '78699', '78699', '79894', '82074', '87854', '90783', '93295', '93295']\n",
      "['2', '3', '3', '1', '2', '2', '1', '1', '1', '2', '3', '3', '2', '3', '2', '1', '3', '1', '2', '1', '2', '3', '1', '1', '3', '3', '2', '3', '2', '1', '2', '2', '2', '3', '1', '1', '2']\n"
     ]
    }
   ],
   "source": [
    "IDlist = []\n",
    "projlist = []\n",
    "import re\n",
    "for infile in infiles:\n",
    "    tmp = re.findall(\"\\d+\",infile)\n",
    "    IDlist.append(tmp[0])\n",
    "    projlist.append(tmp[2])\n",
    "print(IDlist)\n",
    "print(projlist)"
   ]
  },
  {
   "cell_type": "code",
   "execution_count": 5,
   "metadata": {
    "collapsed": false
   },
   "outputs": [],
   "source": [
    "data = []\n",
    "nprojection = []\n",
    "for infile in infiles:\n",
    "    nline = 0\n",
    "    with open(infile,'r') as f:\n",
    "        lines = f.read().split(os.linesep)\n",
    "    for line in lines:\n",
    "    # only when the size of the array matches the column number \n",
    "        if len(line.split())==23:\n",
    "            data.append(line.split())\n",
    "            nline += 1\n",
    "    nprojection.append(nline)\n",
    "data = np.array(data).astype(float)"
   ]
  },
  {
   "cell_type": "code",
   "execution_count": 34,
   "metadata": {
    "collapsed": false
   },
   "outputs": [
    {
     "name": "stdout",
     "output_type": "stream",
     "text": [
      "[30, 27, 30, 30, 28, 30, 30, 30, 30, 30, 30, 30, 30, 30, 30, 30, 30, 30, 30, 30, 30, 30, 30, 26, 30, 30, 30, 30, 30, 30, 29, 30, 30, 30, 30, 30]\n"
     ]
    }
   ],
   "source": [
    "print(nprojection)"
   ]
  },
  {
   "cell_type": "code",
   "execution_count": 206,
   "metadata": {
    "collapsed": false
   },
   "outputs": [],
   "source": [
    "src_x = data[:,0].reshape((1100,1))\n",
    "src_y = data[:,1].reshape((1100,1))\n",
    "img0_x = data[:,3].reshape((1100,1))\n",
    "img0_y = data[:,4].reshape((1100,1))\n",
    "img0_mag = data[:,5].reshape((1100,1))\n",
    "img0_dt = data[:,6].reshape((1100,1))\n",
    "img1_x = data[:,7].reshape((1100,1))\n",
    "img1_y = data[:,8].reshape((1100,1))\n",
    "img1_mag = data[:,9].reshape((1100,1))\n",
    "img1_dt = data[:,10].reshape((1100,1))\n",
    "img2_x = data[:,11].reshape((1100,1))\n",
    "img2_y = data[:,12].reshape((1100,1))\n",
    "img2_mag = data[:,13].reshape((1100,1))\n",
    "img2_dt = data[:,14].reshape((1100,1))\n",
    "img3_x = data[:,15].reshape((1100,1))\n",
    "img3_y = data[:,16].reshape((1100,1))\n",
    "img3_mag = data[:,17].reshape((1100,1))\n",
    "img3_dt = data[:,18].reshape((1100,1))\n",
    "img4_x = data[:,19].reshape((1100,1))\n",
    "img4_y = data[:,20].reshape((1100,1))\n",
    "img4_mag = data[:,21].reshape((1100,1))\n",
    "img4_dt = data[:,22].reshape((1100,1))"
   ]
  },
  {
   "cell_type": "code",
   "execution_count": 150,
   "metadata": {
    "collapsed": true
   },
   "outputs": [],
   "source": [
    "def vecsize(x,y):\n",
    "    return np.sqrt(x**2.+y**2.)"
   ]
  },
  {
   "cell_type": "code",
   "execution_count": 151,
   "metadata": {
    "collapsed": false
   },
   "outputs": [],
   "source": [
    "theta0 = vecsize(img0_x,img0_y)\n",
    "theta1 = vecsize(img1_x,img1_y)\n",
    "theta2 = vecsize(img2_x,img2_y)\n",
    "theta3 = vecsize(img3_x,img3_y)\n",
    "theta4 = vecsize(img4_x,img4_y)"
   ]
  },
  {
   "cell_type": "code",
   "execution_count": 205,
   "metadata": {
    "collapsed": false
   },
   "outputs": [
    {
     "name": "stdout",
     "output_type": "stream",
     "text": [
      "(1100,)\n"
     ]
    }
   ],
   "source": [
    "param = []\n",
    "for paramfile in paramfiles:\n",
    "    with open(paramfile,'r') as f:\n",
    "        lines = f.read().split(os.linesep)[1:]\n",
    "    for line in lines:\n",
    "        if len(line.split()) != 0:\n",
    "            param.append(line.split())\n",
    "param = np.array(param)"
   ]
  },
  {
   "cell_type": "code",
   "execution_count": 11,
   "metadata": {
    "collapsed": false
   },
   "outputs": [
    {
     "name": "stdout",
     "output_type": "stream",
     "text": [
      "['35327' '54707' '56582' '43749' '31645' '38307' '79894' '56582' '78699'\n",
      " '106840' '78699' '93295' '35327' '67483' '67483' '106840' '28221' '64516'\n",
      " '147093' '93295' '16254' '87854' '140304' '100527' '100527' '38307'\n",
      " '76240' '82074' '160281' '165345' '139644' '176276' '90783' '228508'\n",
      " '231499' '217576']\n",
      "['1' '1' '1' '3' '3' '1' '2' '3' '2' '2' '1' '1' '2' '2' '3' '1' '1' '3'\n",
      " '1' '2' '2' '3' '1' '2' '3' '2' '2' '2' '1' '3' '2' '3' '1' '3' '2' '2']\n",
      "36\n",
      "['100527', '100527', '103122', '106840', '106840', '139644', '140304', '147093', '160281', '16254', '165345', '176276', '217576', '228508', '231499', '28221', '31645', '35327', '35327', '38307', '38307', '43749', '54707', '56582', '56582', '64516', '67483', '67483', '76240', '78699', '78699', '79894', '82074', '87854', '90783', '93295', '93295']\n",
      "['2', '3', '3', '1', '2', '2', '1', '1', '1', '2', '3', '3', '2', '3', '2', '1', '3', '1', '2', '1', '2', '3', '1', '1', '3', '3', '2', '3', '2', '1', '2', '2', '2', '3', '1', '1', '2']\n",
      "37\n"
     ]
    }
   ],
   "source": [
    "ID_par = param[:,0]\n",
    "proj_par = param[:,2]\n",
    "print(ID_par)\n",
    "print(proj_par)\n",
    "print(len(ID_par))\n",
    "print(IDlist)\n",
    "print(projlist)\n",
    "print(len(IDlist))"
   ]
  },
  {
   "cell_type": "code",
   "execution_count": 12,
   "metadata": {
    "collapsed": false
   },
   "outputs": [
    {
     "data": {
      "text/plain": [
       "(array([57, 58, 59, 60, 61, 62, 63, 64, 65, 66, 67, 68, 69, 70, 71, 72, 73,\n",
       "        74, 75, 76, 77, 78, 79, 80, 81, 82, 83, 84, 85, 86]),)"
      ]
     },
     "execution_count": 12,
     "metadata": {},
     "output_type": "execute_result"
    }
   ],
   "source": [
    "M_E = np.ones((len(IDlist)))\n",
    "R_E = np.ones((len(IDlist)))\n",
    "vdSIE = np.ones((len(IDlist)))\n",
    "vdapt = np.ones((len(IDlist)))\n",
    "Rapt = np.ones((len(IDlist)))\n",
    "vdeff = np.ones((len(IDlist)))\n",
    "Reff = np.ones((len(IDlist)))\n",
    "# to prevent divergence of F(gam), set gams to 2 (SIE).\n",
    "gam = np.ones((len(IDlist)))*2.\n",
    "\n",
    "for i in range(len(ID_par)):\n",
    "    for j in range(len(IDlist)):\n",
    "        if (ID_par[i] == IDlist[j]) & (proj_par[i] == projlist[j]):\n",
    "            M_E[j] = float(param[i][3])\n",
    "            R_E[j] = float(param[i][4])\n",
    "            vdSIE[j] = float(param[i][5])\n",
    "            vdapt[j] = float(param[i][8])\n",
    "            Rapt[j] = float(param[i][9])\n",
    "            vdeff[j] = float(param[i][10])\n",
    "            Reff[j] = float(param[i][11])\n",
    "            gam[j] = float(param[i][12])\n",
    "M_E_ = np.repeat(M_E[0],nprojection[0])\n",
    "R_E_ = np.repeat(R_E[0],nprojection[0])\n",
    "vdSIE_ = np.repeat(vdSIE[0],nprojection[0])\n",
    "vdapt_ = np.repeat(vdapt[0],nprojection[0])\n",
    "Rapt_ = np.repeat(Rapt[0],nprojection[0])\n",
    "vdeff_ = np.repeat(vdeff[0],nprojection[0])\n",
    "Reff_ = np.repeat(Reff[0],nprojection[0])\n",
    "gam_ = np.repeat(gam[0],nprojection[0])\n",
    "\n",
    "for i in range(1,len(IDlist)):\n",
    "    M_E_ = np.append(M_E_,np.repeat(M_E[i],nprojection[i]))\n",
    "    R_E_ = np.append(R_E_,np.repeat(R_E[i],nprojection[i]))\n",
    "    vdSIE_ = np.append(vdSIE_,np.repeat(vdSIE[i],nprojection[i]))\n",
    "    vdapt_ = np.append(vdapt_,np.repeat(vdapt[i],nprojection[i]))\n",
    "    Rapt_ = np.append(Rapt_,np.repeat(Rapt[i],nprojection[i]))\n",
    "    vdeff_ = np.append(vdeff_,np.repeat(vdeff[i],nprojection[i]))\n",
    "    Reff_ = np.append(Reff_,np.repeat(Reff[i],nprojection[i]))\n",
    "    gam_ = np.append(gam_,np.repeat(gam[i],nprojection[i]))\n",
    "\n",
    "np.where(M_E_==1)"
   ]
  },
  {
   "cell_type": "code",
   "execution_count": 263,
   "metadata": {
    "collapsed": false
   },
   "outputs": [
    {
     "data": {
      "text/plain": [
       "array([ 2.08329,  2.08329,  2.08329, ...,  1.7963 ,  1.7963 ,  1.7963 ])"
      ]
     },
     "execution_count": 263,
     "metadata": {},
     "output_type": "execute_result"
    }
   ],
   "source": [
    "R_E_"
   ]
  },
  {
   "cell_type": "code",
   "execution_count": 14,
   "metadata": {
    "collapsed": false
   },
   "outputs": [
    {
     "data": {
      "text/plain": [
       "977320.69770000002"
      ]
     },
     "execution_count": 14,
     "metadata": {},
     "output_type": "execute_result"
    }
   ],
   "source": [
    "radtosec = 206265.\n",
    "Dd = Rapt[0]/1.5*radtosec\n",
    "# Dd in kpc\n",
    "kmtokpc = 3.24078e-17\n",
    "Dd"
   ]
  },
  {
   "cell_type": "code",
   "execution_count": 15,
   "metadata": {
    "collapsed": false
   },
   "outputs": [],
   "source": [
    "def dist(x1,y1,x2,y2):\n",
    "    return np.sqrt((x1-x2)**2.+(y1-y2)**2.)"
   ]
  },
  {
   "cell_type": "code",
   "execution_count": 16,
   "metadata": {
    "collapsed": false
   },
   "outputs": [],
   "source": [
    "def F(gam):\n",
    "    from scipy.special import gamma as g\n",
    "    return np.sqrt(np.pi*g(0.5*(gam-1))/g(0.5*gam))"
   ]
  },
  {
   "cell_type": "code",
   "execution_count": 17,
   "metadata": {
    "collapsed": false
   },
   "outputs": [],
   "source": [
    "def Dthetainv(gam,theta1,theta2,T):\n",
    "    return 2.*math.pi*(2./(-gam+3.)*(theta2*(theta2/T)**(-gam+2.)-theta1*(theta1/T)**(-gam+2.))+\\\n",
    "                       (theta1+theta2)*((theta1/T)**(-gam+2.)-(theta2/T)**(-gam+2.)))**(-1.)/(F(gam)*(gam-1.))"
   ]
  },
  {
   "cell_type": "code",
   "execution_count": 275,
   "metadata": {
    "collapsed": false
   },
   "outputs": [
    {
     "data": {
      "text/plain": [
       "(-2.5, 2.5)"
      ]
     },
     "execution_count": 275,
     "metadata": {},
     "output_type": "execute_result"
    },
    {
     "data": {
      "image/png": "[encoded data removed]",
      "text/plain": [
       "<matplotlib.figure.Figure at 0x7f99f624ac88>"
      ]
     },
     "metadata": {},
     "output_type": "display_data"
    }
   ],
   "source": [
    "i = 10\n",
    "plt.plot(src_x[i],src_y[i],marker='*',linestyle='none',color='r')\n",
    "plt.plot(img1_x[i],img1_y[i],marker='.',linestyle='none',color='r')\n",
    "plt.plot(img2_x[i],img2_y[i],marker='.',linestyle='none',color='g')\n",
    "plt.plot(img3_x[i],img3_y[i],marker='.',linestyle='none',color='b')\n",
    "plt.plot(img4_x[i],img4_y[i],marker='.',linestyle='none',color='black')\n",
    "plt.plot(img0_x[i],img0_y[i],marker='.',linestyle='none',color='orange')\n",
    "Rein = plt.Circle((0,0),R_E_[i],color = 'black',fill=False)\n",
    "#circle1=plt.Circle((0,0),.2,color='r')\n",
    "plt.gcf().gca().add_artist(Rein)\n",
    "plt.xlim([-2.5,2.5])\n",
    "plt.ylim([-2.5,2.5])\n",
    "# calculate Dd from each image paired with the central image!\n",
    "# let's write a function determines two pairs of the images that are nearly opposite to each other"
   ]
  },
  {
   "cell_type": "code",
   "execution_count": 294,
   "metadata": {
    "collapsed": false
   },
   "outputs": [],
   "source": [
    "# determines whether images 1 and 3 are in line wrt the source position\n",
    "# returns True (use 1-3 pair)/ False (use 2-4 pair)\n",
    "n_img = len(src_x)\n",
    "def vec_13(src_x,src_y,img1_x,img1_y,img3_x,img3_y):\n",
    "    bool_arr = np.zeros((n_img))\n",
    "    dot_prd13 = (img1_x-src_x)*(img3_x-src_x)+(img1_y-src_y)*(img3_y-src_y)\n",
    "    size_prd13 = vecsize(img1_x-src_x,img1_y-src_y)*vecsize(img3_x-src_x,img3_y-src_y)\n",
    "    eps = 0.1\n",
    "    dot_prd24 = (img2_x-src_x)*(img4_x-src_x)+(img2_y-src_y)*(img4_y-src_y)\n",
    "    size_prd24 = vecsize(img2_x-src_x,img2_y-src_y)*vecsize(img4_x-src_x,img4_y-src_y)\n",
    "    for i1 in range(n_img):\n",
    "        if (dot_prd13[i1] / size_prd13[i1]<=-1+eps):\n",
    "            #bool_arr[i1] = 0\n",
    "            if (dot_prd24[i1] / size_prd24[i1]<=-1+eps): \n",
    "                bool_arr[i1] = 1\n",
    "        else:\n",
    "            bool_arr[i1] = 2\n",
    "    return bool_arr"
   ]
  },
  {
   "cell_type": "code",
   "execution_count": 295,
   "metadata": {
    "collapsed": false
   },
   "outputs": [],
   "source": [
    "c = np.float(300000.)\n",
    "# speed of light in km/s\n",
    "Ddeff = np.zeros((n_img))\n",
    "bool_arr = vec_13(src_x,src_y,img1_x,img1_y,img3_x,img3_y)\n",
    "for i in range(len(src_x)):\n",
    "    if bool_arr[i] == 1:\n",
    "        Ddeff[i] = abs(c**3.*abs(img1_dt[i]-img3_dt[i])*10.**7./(4.*3.14*vdeff_[i]**2.*(1.+0.6))*kmtokpc*radtosec*Dthetainv(gam_[i],theta1[i],theta3[i],Reff_[i]/Dd))\n",
    "    elif bool_arr[i] == 0:\n",
    "        Ddeff[i] = abs(c**3.*abs(img2_dt[i]-img4_dt[i])*10.**7./(4.*3.14*vdeff_[i]**2.*(1.+0.6))*kmtokpc*radtosec*Dthetainv(gam_[i],theta2[i],theta4[i],Reff_[i]/Dd))\n",
    "    else:\n",
    "        Ddeff[i] = abs(c**3.*abs(img1_dt[i]-img0_dt[i])*10.**7./(4.*3.14*vdeff_[i]**2.*(1.+0.6))*kmtokpc*radtosec*Dthetainv(gam_[i],theta1[i],theta0[i],Reff_[i]/Dd))\n",
    "\n",
    "        #        Ddeff[i] = c**3.*np.abs(img2_dt-img4_dt)*10.**7./(4.*3.14*vdeff_**2.*(1.+0.6))*kmtokpc*radtosec*Dthetainv(gam_,theta4,theta2,Reff_/Dd)\n",
    "#Ddeff3 = c**3.*np.abs(img3_dt)*10.**7./(4.*3.14*vdeff_**2.*(1.+0.6))*kmtokpc*radtosec*Dthetainv(gam_,theta0,theta3,Reff_/Dd)\n",
    "#Ddeff4 = c**3.*np.abs(img4_dt)*10.**7./(4.*3.14*vdeff_**2.*(1.+0.6))*kmtokpc*radtosec*Dthetainv(gam_,theta0,theta4,Reff_/Dd)"
   ]
  },
  {
   "cell_type": "code",
   "execution_count": 296,
   "metadata": {
    "collapsed": false
   },
   "outputs": [
    {
     "data": {
      "text/plain": [
       "(array([   0,    3,    5,    6,    9,   15,   16,   18,   19,   20,   21,\n",
       "          22,   23,   24,   26,   29,   30,   31,   32,   34,   35,   37,\n",
       "          38,   39,   40,   42,   44,   45,   46,   47,   48,   51,   52,\n",
       "          55,   58,   59,   60,   62,   63,   64,   65,   67,   69,   73,\n",
       "          74,   76,   77,   79,   80,   81,   82,   83,   85,   87,   88,\n",
       "          95,   97,   98,   99,  101,  102,  103,  113,  114,  115,  116,\n",
       "         117,  118,  119,  120,  122,  123,  127,  128,  129,  130,  133,\n",
       "         134,  135,  137,  138,  139,  140,  141,  142,  143,  145,  146,\n",
       "         149,  150,  151,  152,  153,  154,  157,  158,  165,  167,  168,\n",
       "         169,  170,  174,  175,  177,  179,  180,  181,  182,  184,  185,\n",
       "         187,  188,  189,  191,  193,  194,  195,  198,  200,  201,  204,\n",
       "         205,  214,  216,  217,  226,  227,  228,  235,  236,  237,  238,\n",
       "         240,  241,  242,  244,  246,  248,  251,  252,  253,  255,  256,\n",
       "         260,  262,  263,  264,  266,  267,  268,  271,  273,  274,  276,\n",
       "         277,  278,  280,  281,  282,  283,  284,  285,  287,  288,  289,\n",
       "         290,  291,  292,  293,  295,  296,  297,  299,  300,  302,  305,\n",
       "         306,  307,  309,  310,  312,  313,  315,  316,  317,  318,  319,\n",
       "         320,  321,  322,  323,  324,  326,  328,  329,  330,  331,  332,\n",
       "         333,  336,  340,  341,  343,  345,  346,  349,  351,  354,  356,\n",
       "         357,  360,  362,  363,  365,  367,  368,  369,  370,  371,  372,\n",
       "         374,  377,  378,  379,  380,  386,  387,  389,  392,  398,  399,\n",
       "         402,  403,  407,  408,  409,  410,  411,  413,  414,  417,  420,\n",
       "         421,  422,  423,  424,  425,  426,  428,  431,  432,  434,  435,\n",
       "         437,  439,  441,  442,  443,  445,  446,  447,  449,  450,  451,\n",
       "         452,  453,  454,  455,  456,  457,  459,  460,  461,  462,  463,\n",
       "         464,  465,  466,  468,  469,  470,  471,  472,  473,  474,  475,\n",
       "         476,  477,  480,  482,  484,  486,  487,  488,  489,  491,  493,\n",
       "         494,  495,  499,  500,  502,  504,  505,  506,  507,  508,  510,\n",
       "         511,  512,  513,  514,  516,  518,  521,  522,  524,  526,  528,\n",
       "         530,  531,  532,  533,  534,  538,  540,  541,  542,  543,  544,\n",
       "         546,  547,  548,  550,  551,  552,  553,  554,  555,  556,  557,\n",
       "         558,  559,  560,  562,  564,  565,  566,  567,  568,  569,  571,\n",
       "         572,  573,  574,  577,  578,  580,  581,  582,  583,  585,  586,\n",
       "         587,  588,  589,  590,  591,  593,  595,  596,  597,  598,  599,\n",
       "         601,  602,  603,  604,  605,  606,  607,  608,  609,  610,  611,\n",
       "         612,  613,  614,  615,  616,  617,  618,  620,  621,  622,  623,\n",
       "         624,  626,  628,  629,  633,  640,  643,  644,  647,  653,  656,\n",
       "         659,  660,  661,  663,  665,  666,  669,  671,  675,  677,  678,\n",
       "         679,  680,  684,  685,  686,  687,  688,  689,  690,  691,  693,\n",
       "         694,  695,  696,  697,  699,  700,  702,  703,  704,  705,  706,\n",
       "         707,  708,  711,  712,  714,  715,  718,  721,  728,  729,  731,\n",
       "         732,  733,  736,  737,  744,  747,  748,  750,  753,  754,  762,\n",
       "         763,  765,  773,  784,  786,  788,  789,  790,  791,  792,  794,\n",
       "         797,  800,  802,  803,  804,  805,  806,  808,  810,  812,  813,\n",
       "         815,  816,  817,  819,  820,  821,  822,  823,  824,  825,  827,\n",
       "         830,  832,  834,  835,  838,  839,  840,  841,  842,  843,  846,\n",
       "         847,  848,  849,  850,  852,  854,  855,  856,  857,  858,  859,\n",
       "         860,  861,  862,  863,  864,  865,  867,  869,  870,  871,  872,\n",
       "         873,  874,  877,  878,  879,  880,  882,  884,  885,  886,  887,\n",
       "         889,  890,  893,  894,  896,  898,  899,  900,  901,  903,  905,\n",
       "         910,  911,  913,  914,  915,  919,  920,  921,  922,  923,  925,\n",
       "         928,  931,  932,  933,  934,  936,  938,  940,  941,  942,  943,\n",
       "         944,  945,  947,  948,  949,  951,  953,  954,  957,  959,  961,\n",
       "         962,  963,  964,  965,  966,  968,  970,  977,  980,  981,  983,\n",
       "         984,  985,  986,  987,  988,  989,  990,  991,  992,  994,  995,\n",
       "         998,  999, 1000, 1001, 1002, 1003, 1004, 1005, 1006, 1007, 1008,\n",
       "        1009, 1010, 1012, 1013, 1014, 1015, 1016, 1018, 1021, 1022, 1023,\n",
       "        1024, 1027, 1028, 1029, 1030, 1031, 1032, 1033, 1034, 1035, 1036,\n",
       "        1038, 1039, 1040, 1042, 1043, 1044, 1045, 1047, 1049, 1052, 1053,\n",
       "        1055, 1057, 1058, 1060, 1061, 1062, 1063, 1064, 1065, 1066, 1067,\n",
       "        1073, 1075, 1082, 1084, 1086, 1087, 1091, 1094, 1096, 1097, 1099]),)"
      ]
     },
     "execution_count": 296,
     "metadata": {},
     "output_type": "execute_result"
    }
   ],
   "source": [
    "np.where(bool_arr==2)"
   ]
  },
  {
   "cell_type": "code",
   "execution_count": 20,
   "metadata": {
    "collapsed": false
   },
   "outputs": [
    {
     "data": {
      "text/plain": [
       "977320.69770000002"
      ]
     },
     "execution_count": 20,
     "metadata": {},
     "output_type": "execute_result"
    }
   ],
   "source": [
    "Dd"
   ]
  },
  {
   "cell_type": "code",
   "execution_count": 297,
   "metadata": {
    "collapsed": false
   },
   "outputs": [
    {
     "name": "stdout",
     "output_type": "stream",
     "text": [
      "149\n"
     ]
    },
    {
     "data": {
      "image/png": "[encoded data removed]",
      "text/plain": [
       "<matplotlib.figure.Figure at 0x7f99f603e518>"
      ]
     },
     "metadata": {},
     "output_type": "display_data"
    },
    {
     "data": {
      "image/png": "[encoded data removed]",
      "text/plain": [
       "<matplotlib.figure.Figure at 0x7f99f6475f60>"
      ]
     },
     "metadata": {},
     "output_type": "display_data"
    }
   ],
   "source": [
    "# removing gal 103122 (no Raytracing file available)\n",
    "if (len(Ddeff) == len(M_E_)):\n",
    "    Ddeff = Ddeff[np.where(M_E_!=1) and np.where(bool_arr==1)]\n",
    "#    Ddeff2 = Ddeff2[np.where(M_E_!=1)]\n",
    "#    Ddeff3 = Ddeff3[np.where(M_E_!=1)]\n",
    "#    Ddeff4 = Ddeff4[np.where(M_E_!=1)]\n",
    "    del nprojection[2]\n",
    "print(len(Ddeff))\n",
    "# plot\n",
    "plt.hist(Ddeff/Dd,histtype='step',bins=500000)\n",
    "#plt.hist(Ddeff2/Dd,histtype='step',bins=50)\n",
    "#plt.hist(Ddeff3/Dd,histtype='step',bins=50)\n",
    "#plt.hist(Ddeff4/Dd,histtype='step',bins=50)\n",
    "#plt.hist(Ddeff1[nl:nh]/Dd,histtype='step',bins=50)\n",
    "#plt.hist(Ddeff2[nl:nh]/Dd,histtype='step',bins=50)\n",
    "#plt.hist(Ddeff3[nl:nh]/Dd,histtype='step',bins=50)\n",
    "#plt.hist(Ddeff4[nl:nh]/Dd,histtype='step',bins=50)\n",
    "#plt.hist(DdSIE)\n",
    "plt.axvline(1,color = 'black')\n",
    "plt.xlim([0,50])\n",
    "plt.show()\n",
    "\n",
    "plt.plot(img1_x,img1_y,marker='.',linestyle='none',color='r')\n",
    "plt.plot(img2_x,img2_y,marker='.',linestyle='none',color='g')\n",
    "plt.plot(img3_x,img3_y,marker='.',linestyle='none',color='b')\n",
    "plt.plot(img4_x,img4_y,marker='.',linestyle='none',color='black')\n",
    "plt.plot(img0_x,img0_y,marker='.',linestyle='none',color='orange')\n",
    "#plt.plot(img1_x[nl:nh],img1_y[nl:nh],marker='.',linestyle='none',color='r')\n",
    "#plt.plot(img2_x[nl:nh],img2_y[nl:nh],marker='.',linestyle='none',color='g')\n",
    "#plt.plot(img3_x[nl:nh],img3_y[nl:nh],marker='.',linestyle='none',color='b')\n",
    "#plt.plot(img4_x[nl:nh],img4_y[nl:nh],marker='.',linestyle='none',color='black')\n",
    "#plt.plot(img0_x[nl:nh],img0_y[nl:nh],marker='.',linestyle='none',color='orange')\n",
    "plt.axvline(x=0,color = 'black')\n",
    "plt.axhline(y=0,color = 'black')\n",
    "\n",
    "plt.show()"
   ]
  },
  {
   "cell_type": "code",
   "execution_count": 309,
   "metadata": {
    "collapsed": false,
    "scrolled": false
   },
   "outputs": [
    {
     "data": {
      "image/png": "[encoded data removed]",
      "text/plain": [
       "<matplotlib.figure.Figure at 0x7f99f5bf3a20>"
      ]
     },
     "metadata": {},
     "output_type": "display_data"
    },
    {
     "data": {
      "image/png": "[encoded data removed]",
      "text/plain": [
       "<matplotlib.figure.Figure at 0x7f99f5c5fe10>"
      ]
     },
     "metadata": {},
     "output_type": "display_data"
    },
    {
     "name": "stdout",
     "output_type": "stream",
     "text": [
      "892\n",
      "922\n"
     ]
    }
   ],
   "source": [
    "# select nth galaxy to plot Dd\n",
    "n = 30\n",
    "nl = 0\n",
    "for i in range(n):\n",
    "    nl += nprojection[i]\n",
    "nh = nl + nprojection[n]\n",
    "plt.hist(Ddeff[nl:nh]/Dd,histtype='step',bins=50)\n",
    "#plt.hist(Ddeff2[nl:nh]/Dd,histtype='step',bins=50)\n",
    "#plt.hist(Ddeff3[nl:nh]/Dd,histtype='step',bins=50)\n",
    "#plt.hist(Ddeff4[nl:nh]/Dd,histtype='step',bins=50)\n",
    "plt.axvline(1,color = 'black')\n",
    "plt.show()\n",
    "\n",
    "plt.plot(img1_x[nl:nh],img1_y[nl:nh],marker='.',linestyle='none',color='r')\n",
    "plt.plot(img2_x[nl:nh],img2_y[nl:nh],marker='.',linestyle='none',color='g')\n",
    "plt.plot(img3_x[nl:nh],img3_y[nl:nh],marker='.',linestyle='none',color='b')\n",
    "plt.plot(img4_x[nl:nh],img4_y[nl:nh],marker='.',linestyle='none',color='black')\n",
    "plt.plot(img0_x[nl:nh],img0_y[nl:nh],marker='.',linestyle='none',color='orange')\n",
    "plt.axvline(x=0,color = 'black')\n",
    "plt.axhline(y=0,color = 'black')\n",
    "plt.show()\n",
    "print(nl)\n",
    "print(nh)"
   ]
  },
  {
   "cell_type": "code",
   "execution_count": 305,
   "metadata": {
    "collapsed": false
   },
   "outputs": [],
   "source": [
    "# bias of up to 200 times? does not sound very plausible\n",
    "# compare M\n"
   ]
  },
  {
   "cell_type": "code",
   "execution_count": null,
   "metadata": {
    "collapsed": true
   },
   "outputs": [],
   "source": []
  }
 ],
 "metadata": {
  "anaconda-cloud": {},
  "kernelspec": {
   "display_name": "Python [Root]",
   "language": "python",
   "name": "Python [Root]"
  },
  "language_info": {
   "codemirror_mode": {
    "name": "ipython",
    "version": 3
   },
   "file_extension": ".py",
   "mimetype": "text/x-python",
   "name": "python",
   "nbconvert_exporter": "python",
   "pygments_lexer": "ipython3",
   "version": "3.5.2"
  }
 },
 "nbformat": 4,
 "nbformat_minor": 2
}
